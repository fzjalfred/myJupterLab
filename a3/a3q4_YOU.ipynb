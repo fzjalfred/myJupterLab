{
 "cells": [
  {
   "cell_type": "markdown",
   "metadata": {},
   "source": [
    "# A3-Q4: Golf Driving Range"
   ]
  },
  {
   "cell_type": "code",
   "execution_count": 2,
   "metadata": {},
   "outputs": [],
   "source": [
    "import numpy as np\n",
    "from copy import deepcopy\n",
    "import matplotlib.pyplot as plt"
   ]
  },
  {
   "cell_type": "code",
   "execution_count": 3,
   "metadata": {},
   "outputs": [],
   "source": [
    "# Supplied functions\n",
    "def Ground(d):\n",
    "    '''\n",
    "     h = Ground(d)\n",
    "     \n",
    "     Returns the height (in metres) of the ground at a horizontal distance\n",
    "     d (metres) from the origin.\n",
    "    '''\n",
    "    return np.sin(d/3.) - 3.*np.sin(d/10.)\n",
    "\n",
    "def GroundSlope(d):\n",
    "    '''\n",
    "     h = GroundSlope(d)\n",
    "     \n",
    "     Returns the slope of the ground at a horizontal distance\n",
    "     d (metres) from the origin.\n",
    "    '''\n",
    "    return 1./3*np.cos(d/3) - 3./10*np.cos(d/10.)"
   ]
  },
  {
   "cell_type": "markdown",
   "metadata": {},
   "source": [
    "## (a) MyOde"
   ]
  },
  {
   "cell_type": "code",
   "execution_count": 4,
   "metadata": {},
   "outputs": [],
   "source": [
    "def MyOde(f, tspan, y0, h, event=(lambda t,y:1)):\n",
    "    '''\n",
    "     t,y = MyOde(f, tspan, y0, h, event=[])\n",
    "    \n",
    "     Numerically solves the initial value problem\n",
    "    \n",
    "        dy(t)/dt = f(t,y)\n",
    "            y(0) = y0\n",
    "    \n",
    "     using the Modified Euler time-stepping method.\n",
    "    \n",
    "     Input\n",
    "       f       a Python dynamics function with calling sequence\n",
    "                  dydt = f(t, y)\n",
    "       tspan   2-tuple giving the start and end times, [start, end]\n",
    "       y0      initial state of the system (as a 1D vector)\n",
    "       h       the time step to use (this is not adaptive time stepping)\n",
    "       events  an event function with calling sequence\n",
    "                  val = events(t, y)\n",
    "               The computation stops as soon as a negative value is\n",
    "               returned by the event function.\n",
    "    \n",
    "     Output\n",
    "       t       1D vector holding time stamps\n",
    "       y       an array that holds one state vector per row (corresponding\n",
    "               to the time stamps)\n",
    "    \n",
    "       Notes:\n",
    "           - t and y have the same number of rows.\n",
    "    \n",
    "           - The first element of t should be tspan[0], and the first\n",
    "             row of y should be the initial state, y0.\n",
    "             \n",
    "           - The event function is NOT called until the second time step.\n",
    "    \n",
    "           - If the computation was stopped by the triggering of an event,\n",
    "             then the last row of t and y should correspond to the\n",
    "             time that linear interpolation indicates for the zero-crossing\n",
    "             of the event-function.\n",
    "    '''\n",
    "    \n",
    "    # Initialize output arrays, tlst and ylst\n",
    "    t = tspan[0]\n",
    "    end = tspan[1]\n",
    "    y = deepcopy(y0)\n",
    "    \n",
    "    tlst = []\n",
    "    ylst = []\n",
    "    \n",
    "    tlst.append(t)\n",
    "    ylst.append(list(y))\n",
    "\n",
    "    while (event(t, y) >= 0 and t < end):\n",
    "        y_1_star = y + h*f(t,y)\n",
    "        y = y + h/2*(f(t,y)+f(t+h, y_1_star))\n",
    "        t += h\n",
    "        tlst.append(t)\n",
    "        ylst.append(list(y))\n",
    "    \n",
    "    # Return the time stamps, and corresponding solutions\n",
    "    return tlst, np.array(ylst)"
   ]
  },
  {
   "cell_type": "markdown",
   "metadata": {},
   "source": [
    "## (b) Dynamics Function: `projectile`"
   ]
  },
  {
   "cell_type": "code",
   "execution_count": 5,
   "metadata": {},
   "outputs": [],
   "source": [
    "def projectile(t, z):\n",
    "    dzdt = np.zeros_like(z)\n",
    "    '''\n",
    "    y[0] = x(t)\n",
    "    y[1] = y(t)\n",
    "    y[2] = x'(t)\n",
    "    y[3] = y'(t)\n",
    "    '''\n",
    "    dzdt[0] = z[2]\n",
    "    dzdt[1] = z[3]\n",
    "    dzdt[2] = -0.5*z[2]\n",
    "    dzdt[3] = -9.81-0.5*z[3]\n",
    "    \n",
    "    return dzdt"
   ]
  },
  {
   "cell_type": "markdown",
   "metadata": {},
   "source": [
    "## (c) Events Function: `projectile_events`"
   ]
  },
  {
   "cell_type": "code",
   "execution_count": 6,
   "metadata": {},
   "outputs": [],
   "source": [
    "def projectile_events(t, z):\n",
    "    d = z[0]\n",
    "    return z[1] - Ground(d)"
   ]
  },
  {
   "cell_type": "markdown",
   "metadata": {},
   "source": [
    "## (d) Two flights"
   ]
  },
  {
   "cell_type": "code",
   "execution_count": 14,
   "metadata": {},
   "outputs": [
    {
     "name": "stdout",
     "output_type": "stream",
     "text": [
      "17.391178049213497\n",
      "14.782501341831471\n",
      "[  1.65248882 -17.31249129]\n",
      "[0.86034988 0.50970392]\n",
      "[-0.50970392  0.86034988]\n",
      "[-12.2315116   8.3013535]\n"
     ]
    }
   ],
   "source": [
    "# Here is the code for one sample flight.\n",
    "theta = 45\n",
    "S = 70\n",
    "tspan = [0, 30]\n",
    "h = 0.05\n",
    "theta_rad = theta/180.*np.pi\n",
    "yStart = np.array([0, 0, S*np.cos(theta_rad), S*np.sin(theta_rad)])\n",
    "t,y = MyOde(projectile, tspan, yStart, h, projectile_events)\n",
    "\n",
    "tspan = [t[-1], 30]\n",
    "yStart = y[-1]\n",
    "#print (yStart)\n",
    "# print(y[-1])\n",
    "# print(y[-2])\n",
    "\n",
    "v=np.array([yStart[2], yStart[3]])\n",
    "u=np.array([1, GroundSlope(yStart[0])])\n",
    "U=np.array([-1, 1/GroundSlope(yStart[0])])\n",
    "\n",
    "u = u / np.linalg.norm(u) #transfer the scalar to unit scalar.\n",
    "U = u / np.linalg.norm(U)\n",
    "\n",
    "u[0] = np.sqrt(1/(1+GroundSlope(yStart[0])* GroundSlope(yStart[0])))\n",
    "u[1]= u[0]*GroundSlope(yStart[0])\n",
    "U[0] = -u[1]\n",
    "U[1] = u[0]\n",
    "V=0.85*(np.dot(v,u)*u - np.dot(v,U)*U)\n",
    "print(np.linalg.norm(v))\n",
    "print(np.linalg.norm(V))\n",
    "print(v)\n",
    "print(u)\n",
    "print(U)\n",
    "print(V)\n",
    "\n",
    "# print(np.vdot(v,u))\n",
    "# print(np.vdot(v,U))\n",
    "yStart[1] = Ground(yStart[0])\n",
    "yStart[2] = V[0]\n",
    "yStart[3] = V[1]+10\n",
    "\n",
    "# print (yStart)\n",
    "\n",
    "t_2,y_2 = MyOde(projectile, tspan, yStart, h, projectile_events)"
   ]
  },
  {
   "cell_type": "code",
   "execution_count": null,
   "metadata": {},
   "outputs": [],
   "source": []
  },
  {
   "cell_type": "code",
   "execution_count": 15,
   "metadata": {},
   "outputs": [
    {
     "data": {
      "image/png": "[encoded data removed]",
      "text/plain": [
       "<Figure size 720x288 with 1 Axes>"
      ]
     },
     "metadata": {
      "needs_background": "light"
     },
     "output_type": "display_data"
    }
   ],
   "source": [
    "# Plot the ground\n",
    "x = np.linspace(-10, 150, 300)\n",
    "hills = Ground(x)\n",
    "plt.figure(figsize=[10,4])\n",
    "plt.plot(x,hills, 'k')\n",
    "plt.axis('equal')\n",
    "plt.plot([0],[0], 'ko')   # Plot initial ball position\n",
    "plt.plot(y[:,0], y[:,1])  # Plot ball trajectory\n",
    "plt.plot(y_2[:,0], y_2[:,1])  # Plot ball trajectory\n",
    "plt.plot(y[-1,0], y[-1,1], 'ko')  # Plot final ball position\n",
    "plt.title(r'$\\theta$ = '+str(theta)+'$^\\circ$');\n",
    "plt.xlabel('Distance (m)')\n",
    "plt.ylabel('Height (m)');\n"
   ]
  },
  {
   "cell_type": "code",
   "execution_count": 25,
   "metadata": {
    "scrolled": true
   },
   "outputs": [],
   "source": [
    "t_final1 = []\n",
    "t_final2 = []\n",
    "y_final1 = []\n",
    "y_final2 = []\n",
    "\n",
    "furthest_distance = 0\n",
    "record_theta = 0\n",
    "\n",
    "for i in range(1,90):\n",
    "    theta = i\n",
    "    S = 70\n",
    "    tspan = [0, 30]\n",
    "    h = 0.05\n",
    "    theta_rad = theta/180.*np.pi\n",
    "    yStart = np.array([0, 0, S*np.cos(theta_rad), S*np.sin(theta_rad)])\n",
    "    t,y = MyOde(projectile, tspan, yStart, h, projectile_events)\n",
    "\n",
    "    tspan = [t[-1], 30]\n",
    "    yStart = y[-1]\n",
    "    #print (yStart)\n",
    "    # print(y[-1])\n",
    "    # print(y[-2])\n",
    "\n",
    "    v=np.array([yStart[2], yStart[3]])\n",
    "    u=np.array([1, GroundSlope(yStart[0])])\n",
    "    U=np.array([-1, 1/GroundSlope(yStart[0])])\n",
    "\n",
    "    u = u / np.linalg.norm(u) #transfer the scalar to unit scalar.\n",
    "    U = u / np.linalg.norm(U)\n",
    "\n",
    "    u[0] = np.sqrt(1/(1+GroundSlope(yStart[0])* GroundSlope(yStart[0])))\n",
    "    u[1]= u[0]*GroundSlope(yStart[0])\n",
    "    U[0] = -u[1]\n",
    "    U[1] = u[0]\n",
    "    V=0.85*(np.dot(v,u)*u - np.dot(v,U)*U)\n",
    "#     print(np.linalg.norm(v))\n",
    "#     print(np.linalg.norm(V))\n",
    "#     print(v)\n",
    "#     print(u)\n",
    "#     print(U)\n",
    "#     print(V)\n",
    "\n",
    "    # print(np.vdot(v,u))\n",
    "    # print(np.vdot(v,U))\n",
    "    yStart[1] = Ground(yStart[0])\n",
    "    yStart[2] = V[0]\n",
    "    yStart[3] = V[1]+10\n",
    "\n",
    "    # print (yStart)\n",
    "\n",
    "    t_2,y_2 = MyOde(projectile, tspan, yStart, h, projectile_events)\n",
    "#     print('furthest distance: ', furthest_distance)\n",
    "#     print(y_2[-1,0])\n",
    "    if (y_2[-1,0] > furthest_distance):\n",
    "        furthest_distance = y_2[-1,0]\n",
    "        record_theta = theta\n",
    "        t_final1 = t\n",
    "        t_final2 = t_2\n",
    "        y_final1 = y\n",
    "        y_final2 = y_2\n",
    "    \n"
   ]
  },
  {
   "cell_type": "code",
   "execution_count": 26,
   "metadata": {},
   "outputs": [
    {
     "data": {
      "image/png": "[encoded data removed]",
      "text/plain": [
       "<Figure size 720x288 with 1 Axes>"
      ]
     },
     "metadata": {
      "needs_background": "light"
     },
     "output_type": "display_data"
    }
   ],
   "source": [
    "# Plot the ground\n",
    "x = np.linspace(-10, 150, 300)\n",
    "hills = Ground(x)\n",
    "plt.figure(figsize=[10,4])\n",
    "plt.plot(x,hills, 'k')\n",
    "plt.axis('equal')\n",
    "plt.plot([0],[0], 'ko')   # Plot initial ball position\n",
    "plt.plot(y_final1[:,0], y_final1[:,1])  # Plot ball trajectory\n",
    "plt.plot(y_final2[:,0], y_final2[:,1])  # Plot ball trajectory\n",
    "plt.plot(y_final1[-1,0], y_final1[-1,1], 'ko')  # Plot final ball position\n",
    "plt.plot(y_final2[-1,0], y_final2[-1,1], 'ko')  # Plot final ball position\n",
    "plt.title(r'$\\theta$ = '+str(record_theta)+'$^\\circ$');\n",
    "plt.xlabel('Distance (m)')\n",
    "plt.ylabel('Height (m)');"
   ]
  },
  {
   "cell_type": "markdown",
   "metadata": {},
   "source": [
    "## (e) Optimal $\\theta$"
   ]
  },
  {
   "cell_type": "markdown",
   "metadata": {},
   "source": [
    "When theta = 17, the distance is the furthest."
   ]
  },
  {
   "cell_type": "code",
   "execution_count": null,
   "metadata": {},
   "outputs": [],
   "source": []
  }
 ],
 "metadata": {
  "kernelspec": {
   "display_name": "Python 3",
   "language": "python",
   "name": "python3"
  },
  "language_info": {
   "codemirror_mode": {
    "name": "ipython",
    "version": 3
   },
   "file_extension": ".py",
   "mimetype": "text/x-python",
   "name": "python",
   "nbconvert_exporter": "python",
   "pygments_lexer": "ipython3",
   "version": "3.7.10"
  }
 },
 "nbformat": 4,
 "nbformat_minor": 4
}
