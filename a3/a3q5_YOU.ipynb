{
 "cells": [
  {
   "cell_type": "markdown",
   "metadata": {},
   "source": [
    "# A3-Q5: Time of Death"
   ]
  },
  {
   "cell_type": "code",
   "execution_count": 1,
   "metadata": {},
   "outputs": [],
   "source": [
    "import numpy as np\n",
    "from scipy.integrate import solve_ivp\n",
    "import matplotlib.pyplot as plt"
   ]
  },
  {
   "cell_type": "markdown",
   "metadata": {},
   "source": [
    "## (a) Dynamics Function"
   ]
  },
  {
   "cell_type": "code",
   "execution_count": 2,
   "metadata": {},
   "outputs": [],
   "source": [
    "# Dynamics function\n",
    "def df(t, z, morning, evening, morning2):\n",
    "    dzdt = np.zeros_like(z)\n",
    "    '''\n",
    "    y[0] = T\n",
    "    y[1] = A\n",
    "    y[2] = B\n",
    "    \n",
    "    '''\n",
    "    T = z[0]\n",
    "    A = z[1]\n",
    "    B = z[2]\n",
    "    if (t<=morning2):\n",
    "        Ta = 15\n",
    "    elif (t<morning2+0.5):\n",
    "        Ta = 15 + (t-morning2)*7/0.5\n",
    "    elif (t<=evening):\n",
    "        Ta = 22\n",
    "    elif (t<evening+2):\n",
    "        Ta = 22 - (t-evening)*7/2\n",
    "    elif (t<=morning):\n",
    "        Ta = 15\n",
    "    elif (t<morning+0.5):\n",
    "        Ta = 15 + (t-morning)*7/0.5\n",
    "    else:\n",
    "        Ta = 22\n",
    "    dzdt[0] = -0.15*(T-Ta) + (A+2*B)/100\n",
    "    dzdt[1] = 0.0015*(T-29)**2 * (1-np.exp(1)**(0.08*(T-45)))*A*(30-A) if 29<=T and T<=45 else 0\n",
    "    dzdt[2] = 0.002*(T-13)**2 * (1-np.exp(1)**(0.05*(T-26)))*B*(20-B) if 13<=T and T<=26 else 0\n",
    "    \n",
    "    return dzdt\n"
   ]
  },
  {
   "cell_type": "code",
   "execution_count": 3,
   "metadata": {},
   "outputs": [],
   "source": [
    "def body_found(t, z):\n",
    "    return z[0] - 21.5\n",
    "\n",
    "body_found.terminal = True\n",
    "body_found.direction = -1"
   ]
  },
  {
   "cell_type": "markdown",
   "metadata": {},
   "source": [
    "## (b) Run the simulation"
   ]
  },
  {
   "cell_type": "code",
   "execution_count": 4,
   "metadata": {},
   "outputs": [
    {
     "name": "stdout",
     "output_type": "stream",
     "text": [
      "Time:    20.75\n",
      "Temp:  21.507242335834835\n",
      "Time:    21.0\n",
      "Temp:  21.500479371692492\n"
     ]
    }
   ],
   "source": [
    "i = 1\n",
    "while (i<=24):\n",
    "    #found after i hour.\n",
    "    #try possible times\n",
    "    to_22 = i - 3.75\n",
    "    to_15 = i - 10.75 - 6\n",
    "    \n",
    "    to_22_2 = i - 24 - 3.75\n",
    "    \n",
    "    tspan = [0,i] #check for one day\n",
    "    y0 = np.array([37.5, 1, 1])\n",
    "    sol = solve_ivp(lambda t,z:df(t,z, to_22, to_15, to_22_2), tspan, y0, max_step=0.25, events=None)\n",
    "    \n",
    "    if (sol.y[0][-1]-21.5<0.01 and sol.y[0][-1]-21.5>0): #find the sol when the the temp is 21.5\n",
    "        final_sol = sol\n",
    "        print(\"Time:   \", sol.t[-1])\n",
    "        print(\"Temp: \", sol.y[0][-1])\n",
    "    i+=0.25"
   ]
  },
  {
   "cell_type": "code",
   "execution_count": 5,
   "metadata": {},
   "outputs": [
    {
     "name": "stdout",
     "output_type": "stream",
     "text": [
      "Final State: \n",
      "Time:  21.0\n",
      "Temp:  21.500479371692492\n",
      "A:  9.606080658707448\n",
      "B:  19.57618367404428\n",
      "The time of death is 1:45pm on October 6.\n"
     ]
    },
    {
     "data": {
      "image/png": "[encoded data removed]",
      "text/plain": [
       "<Figure size 720x288 with 1 Axes>"
      ]
     },
     "metadata": {
      "needs_background": "light"
     },
     "output_type": "display_data"
    }
   ],
   "source": [
    "# Plot body temp, A, and B, and display the final state.\n",
    "\n",
    "# === YOUR CODE HERE ===\n",
    "plt.figure(figsize=[10,4])\n",
    "plt.axis('equal')\n",
    "plt.plot(final_sol.t, final_sol.y[0])  \n",
    "plt.plot(final_sol.t[-1], final_sol.y[0][-1], \"ko\") \n",
    "plt.plot([0,24],[21.5,21.5], \"k:\")\n",
    "plt.title('death time estimate');\n",
    "plt.xlabel('time past since death (hour)')\n",
    "plt.ylabel('Temp (C)');\n",
    "\n",
    "print(\"Final State: \")\n",
    "print(\"Time: \",final_sol.t[-1])\n",
    "print(\"Temp: \",final_sol.y[0][-1])\n",
    "print(\"A: \",final_sol.y[1][-1])\n",
    "print(\"B: \",final_sol.y[2][-1])\n",
    "print(\"The time of death is 1:45pm on October 6.\")"
   ]
  },
  {
   "cell_type": "markdown",
   "metadata": {},
   "source": [
    "## (c) Prime Suspect"
   ]
  },
  {
   "cell_type": "markdown",
   "metadata": {},
   "source": [
    "James Carver could be the criminal. Since his whereabouts is not confirmed at 1:45pm on October 6.<br>\n"
   ]
  },
  {
   "cell_type": "code",
   "execution_count": null,
   "metadata": {},
   "outputs": [],
   "source": []
  },
  {
   "cell_type": "code",
   "execution_count": null,
   "metadata": {},
   "outputs": [],
   "source": []
  }
 ],
 "metadata": {
  "kernelspec": {
   "display_name": "Python 3",
   "language": "python",
   "name": "python3"
  },
  "language_info": {
   "codemirror_mode": {
    "name": "ipython",
    "version": 3
   },
   "file_extension": ".py",
   "mimetype": "text/x-python",
   "name": "python",
   "nbconvert_exporter": "python",
   "pygments_lexer": "ipython3",
   "version": "3.7.10"
  }
 },
 "nbformat": 4,
 "nbformat_minor": 4
}
