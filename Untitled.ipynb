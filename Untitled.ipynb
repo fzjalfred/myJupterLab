{
 "cells": [
  {
   "cell_type": "code",
   "execution_count": 51,
   "id": "039c9eaf-6e52-4390-ada1-aca1e34948d4",
   "metadata": {},
   "outputs": [
    {
     "ename": "SyntaxError",
     "evalue": "invalid character in identifier (<ipython-input-51-8e345f45e550>, line 5)",
     "output_type": "error",
     "traceback": [
      "\u001b[0;36m  File \u001b[0;32m\"<ipython-input-51-8e345f45e550>\"\u001b[0;36m, line \u001b[0;32m5\u001b[0m\n\u001b[0;31m    print(\"每年从中花 \"， i*1000)\u001b[0m\n\u001b[0m                  ^\u001b[0m\n\u001b[0;31mSyntaxError\u001b[0m\u001b[0;31m:\u001b[0m invalid character in identifier\n"
     ]
    }
   ],
   "source": [
    "print(\"选择方案一我的初始资金0元\")\n",
    "print(\"选择方案二我的初始资金48000元\")\n",
    "\n",
    "for i in range(1,8):\n",
    "    print(\"每年从中花 \"， i*1000)\n",
    "    deposit = 24000\n",
    "    my_store = 0\n",
    "    deposit-= 24000\n",
    "    expanse = i*1000 #每年花钱\n",
    "    for year in range (20):\n",
    "        for month in range(12):\n",
    "            deposit += 100*(1+0.05*year)\n",
    "            my_store += 100*(1+0.05*year)\n",
    "        deposit*=1.04\n",
    "    for year in range(20):\n",
    "        deposit-=expanse\n",
    "    #print(deposit)\n",
    "\n",
    "    deposit2 = 24000 + 24000\n",
    "    for year in range(20):\n",
    "        deposit2 *= 1.04\n",
    "        deposit2 -= expanse\n",
    "    #print(deposit2)\n",
    "    print(\"每年花的钱：\"， expanse)\n",
    "    print(\"选择方案1比方案2多出的钱：\", deposit - deposit2)"
   ]
  },
  {
   "cell_type": "code",
   "execution_count": null,
   "id": "f74fb9de-95cc-48c0-8806-5232b6fa5f65",
   "metadata": {},
   "outputs": [],
   "source": [
    "deposit = 24000\n",
    "my_store = 0\n",
    "deposit-= 24000\n",
    "expanse = 6000 #每年花钱\n",
    "for year in range (20):\n",
    "    for month in range(12):\n",
    "        deposit += 100*(1+0.05*year)\n",
    "        my_store += 100*(1+0.05*year)\n",
    "    deposit*=1.04\n",
    "for year in range(20):\n",
    "    deposit-=expanse\n",
    "#print(deposit)\n",
    "\n",
    "deposit2 = 24000 + 24000\n",
    "for year in range(20):\n",
    "    deposit2 *= 1.04\n",
    "    deposit2 -= expanse\n",
    "#print(deposit2)"
   ]
  },
  {
   "cell_type": "code",
   "execution_count": null,
   "id": "985cceed-1e84-4843-9f21-29f390218a4f",
   "metadata": {},
   "outputs": [],
   "source": []
  }
 ],
 "metadata": {
  "kernelspec": {
   "display_name": "Python 3",
   "language": "python",
   "name": "python3"
  },
  "language_info": {
   "codemirror_mode": {
    "name": "ipython",
    "version": 3
   },
   "file_extension": ".py",
   "mimetype": "text/x-python",
   "name": "python",
   "nbconvert_exporter": "python",
   "pygments_lexer": "ipython3",
   "version": "3.7.10"
  }
 },
 "nbformat": 4,
 "nbformat_minor": 5
}
