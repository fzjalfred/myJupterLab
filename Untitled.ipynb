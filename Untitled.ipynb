{
 "cells": [
  {
   "cell_type": "code",
   "execution_count": 51,
   "id": "039c9eaf-6e52-4390-ada1-aca1e34948d4",
   "metadata": {},
   "outputs": [
    {
     "ename": "SyntaxError",
     "evalue": "invalid character in identifier (<ipython-input-51-8e345f45e550>, line 5)",
     "output_type": "error",
     "traceback": [
      "\u001b[0;36m  File \u001b[0;32m\"<ipython-input-51-8e345f45e550>\"\u001b[0;36m, line \u001b[0;32m5\u001b[0m\n\u001b[0;31m    print(\"每年从中花 \"， i*1000)\u001b[0m\n\u001b[0m                  ^\u001b[0m\n\u001b[0;31mSyntaxError\u001b[0m\u001b[0;31m:\u001b[0m invalid character in identifier\n"
     ]
    }
   ],
   "source": [
    "print(\"选择方案一我的初始资金0元\")\n",
    "print(\"选择方案二我的初始资金48000元\")\n",
    "\n",
    "for i in range(1,8):\n",
    "    print(\"每年从中花 \"， i*1000)\n",
    "    deposit = 24000\n",
    "    my_store = 0\n",
    "    deposit-= 24000\n",
    "    expanse = i*1000 #每年花钱\n",
    "    for year in range (20):\n",
    "        for month in range(12):\n",
    "            deposit += 100*(1+0.05*year)\n",
    "            my_store += 100*(1+0.05*year)\n",
    "        deposit*=1.04\n",
    "    for year in range(20):\n",
    "        deposit-=expanse\n",
    "    #print(deposit)\n",
    "\n",
    "    deposit2 = 24000 + 24000\n",
    "    for year in range(20):\n",
    "        deposit2 *= 1.04\n",
    "        deposit2 -= expanse\n",
    "    #print(deposit2)\n",
    "    print(\"每年花的钱：\"， expanse)\n",
    "    print(\"选择方案1比方案2多出的钱：\", deposit - deposit2)"
   ]
  },
  {
   "cell_type": "code",
   "execution_count": null,
   "id": "f74fb9de-95cc-48c0-8806-5232b6fa5f65",
   "metadata": {},
   "outputs": [],
   "source": [
    "deposit = 24000\n",
    "my_store = 0\n",
    "deposit-= 24000\n",
    "expanse = 6000 #每年花钱\n",
    "for year in range (20):\n",
    "    for month in range(12):\n",
    "        deposit += 100*(1+0.05*year)\n",
    "        my_store += 100*(1+0.05*year)\n",
    "    deposit*=1.04\n",
    "for year in range(20):\n",
    "    deposit-=expanse\n",
    "#print(deposit)\n",
    "\n",
    "deposit2 = 24000 + 24000\n",
    "for year in range(20):\n",
    "    deposit2 *= 1.04\n",
    "    deposit2 -= expanse\n",
    "#print(deposit2)"
   ]
  },
  {
   "cell_type": "code",
   "execution_count": 16,
   "id": "985cceed-1e84-4843-9f21-29f390218a4f",
   "metadata": {},
   "outputs": [
    {
     "name": "stdout",
     "output_type": "stream",
     "text": [
      "0.037934596690883844\n",
      "0.037934596690883844\n",
      "0.0034254873907817495\n",
      "0.0078125\n",
      "0.07586919338176769\n"
     ]
    }
   ],
   "source": [
    "from math import factorial\n",
    "from math import sqrt\n",
    "\n",
    "def c(n,m):\n",
    "    return factorial(n)//(factorial(n-m)*factorial(m))\n",
    "\n",
    "def p(n,m):\n",
    "    return factorial(n)//factorial(n-m)     \n",
    "\n",
    "###2\n",
    "#a)\n",
    "print(9*8*7*6*5*4*3/(9**7))\n",
    "print(c(9,7)*p(7,7)/9**7)\n",
    "#b)\n",
    "print((4/9)**7)\n",
    "#c)\n",
    "print((4/8)**7)\n",
    "#d)\n",
    "# No\n",
    "#e)\n",
    "print(p(9,2)*p(7,7)/9**7)"
   ]
  },
  {
   "cell_type": "code",
   "execution_count": 2,
   "id": "f9738645-bbf5-4890-be10-dad503c2bf0c",
   "metadata": {},
   "outputs": [
    {
     "data": {
      "text/plain": [
       "152399025"
      ]
     },
     "execution_count": 2,
     "metadata": {},
     "output_type": "execute_result"
    }
   ],
   "source": [
    "e(12345**2)"
   ]
  },
  {
   "cell_type": "code",
   "execution_count": 3,
   "id": "b43a7864-23bb-4ddf-acf9-df309ccb77c9",
   "metadata": {},
   "outputs": [
    {
     "data": {
      "text/plain": [
       "152374336"
      ]
     },
     "execution_count": 3,
     "metadata": {},
     "output_type": "execute_result"
    }
   ],
   "source": [
    "12344**2"
   ]
  },
  {
   "cell_type": "code",
   "execution_count": 4,
   "id": "8c705520-bd69-4c3e-be5c-b8032233ae55",
   "metadata": {},
   "outputs": [
    {
     "data": {
      "text/plain": [
       "3.0000000000002247e-05"
      ]
     },
     "execution_count": 4,
     "metadata": {},
     "output_type": "execute_result"
    }
   ],
   "source": [
    "0.15240-0.15237"
   ]
  },
  {
   "cell_type": "code",
   "execution_count": null,
   "id": "dfddcbd7-6f15-4688-a92c-a0088230e610",
   "metadata": {},
   "outputs": [],
   "source": []
  }
 ],
 "metadata": {
  "kernelspec": {
   "display_name": "Python 3",
   "language": "python",
   "name": "python3"
  },
  "language_info": {
   "codemirror_mode": {
    "name": "ipython",
    "version": 3
   },
   "file_extension": ".py",
   "mimetype": "text/x-python",
   "name": "python",
   "nbconvert_exporter": "python",
   "pygments_lexer": "ipython3",
   "version": "3.7.10"
  }
 },
 "nbformat": 4,
 "nbformat_minor": 5
}
