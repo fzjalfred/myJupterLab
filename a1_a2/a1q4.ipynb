{
 "cells": [
  {
   "cell_type": "markdown",
   "metadata": {},
   "source": [
    "# A1Q4 Bank Fraud\n"
   ]
  },
  {
   "cell_type": "code",
   "execution_count": 1,
   "metadata": {},
   "outputs": [],
   "source": [
    "# Standard imports\n",
    "import numpy as np\n",
    "import math\n",
    "import matplotlib.pyplot as plt"
   ]
  },
  {
   "cell_type": "markdown",
   "metadata": {},
   "source": [
    "### Supplied Code (do not edit)"
   ]
  },
  {
   "cell_type": "code",
   "execution_count": 7,
   "metadata": {},
   "outputs": [],
   "source": [
    "def ReceiveTransactions():\n",
    "    '''\n",
    "     credit, debit = ReceiveTransactions()\n",
    "    \n",
    "     Returns two 10000x1 single-precision arrays of transactions.\n",
    "       credit\n",
    "       debit\n",
    "    '''\n",
    "    N = 50000\n",
    "\n",
    "    credit = np.float32(abs(np.random.randn(N)))*40000.\n",
    "    debit  = np.float32(abs(np.random.randn(N)))*40000.\n",
    "\n",
    "    credit = np.round(credit, decimals=2)\n",
    "    debit  = np.round(debit, decimals=2)\n",
    "\n",
    "    return [credit, debit]"
   ]
  },
  {
   "cell_type": "code",
   "execution_count": 10,
   "metadata": {},
   "outputs": [],
   "source": [
    "def CalculateNet(credit, debit):\n",
    "    '''\n",
    "     net = CalculateNet(credit, debit)\n",
    "\n",
    "     Add together the credits and debits to get the net income.\n",
    "\n",
    "     Input\n",
    "       credit:  An array of credit values\n",
    "       debit:   An array of debit values\n",
    "\n",
    "     Output\n",
    "       net:     The result from adding all the credits and\n",
    "                subtracting all the debits\n",
    "    '''\n",
    "\n",
    "    scredit = np.sort(credit)\n",
    "    sdebit  = np.sort(debit)\n",
    "\n",
    "    # Method A\n",
    "    netA = np.sum(credit) - np.sum(debit)\n",
    "    \n",
    "    # Method B\n",
    "    netB = np.sum(credit)\n",
    "    for d in sdebit:\n",
    "        netB -= d\n",
    "\n",
    "    # Method C\n",
    "    netC = np.float32(0.)\n",
    "    for c,d in zip(scredit, sdebit):\n",
    "        netC += c - d\n",
    "        \n",
    "    net = np.min([netA, netB, netC])\n",
    "\n",
    "    return netA, netB, netC"
   ]
  },
  {
   "cell_type": "markdown",
   "metadata": {},
   "source": [
    "### Process a set of transactions"
   ]
  },
  {
   "cell_type": "code",
   "execution_count": 11,
   "metadata": {},
   "outputs": [
    {
     "name": "stdout",
     "output_type": "stream",
     "text": [
      "Net income: (-654976.0, -643900.06, -654936.4)\n"
     ]
    }
   ],
   "source": [
    "c, d = ReceiveTransactions()\n",
    "\n",
    "net_income = CalculateNet(c, d)\n",
    "\n",
    "print('Net income: '+str(net_income))"
   ]
  },
  {
   "cell_type": "markdown",
   "metadata": {},
   "source": [
    "### (a)"
   ]
  },
  {
   "cell_type": "markdown",
   "metadata": {},
   "source": [
    "Method C is the most accurate option. Previous two methods sum up the credit transcations first. The valid digits we have is limited. Therefore, while makeing a summation, the most digits is stored for the top digits.\n",
    "The low digits in the number represented is easyily smashed. To avoid the unnessary storage of top digits, we need to make each two credit and debit transactions (even similar in magnitude) an error and add up all the errors to get a final conclusion.\n"
   ]
  },
  {
   "cell_type": "markdown",
   "metadata": {},
   "source": [
    "### (b)"
   ]
  },
  {
   "cell_type": "markdown",
   "metadata": {},
   "source": [
    "The function 'CalculateNet' always give the minimum result. It misleads the banker to believe they have much lower revenue and the difference may be obtained illegally by someone."
   ]
  },
  {
   "cell_type": "code",
   "execution_count": null,
   "metadata": {},
   "outputs": [],
   "source": []
  }
 ],
 "metadata": {
  "kernelspec": {
   "display_name": "Python 3",
   "language": "python",
   "name": "python3"
  },
  "language_info": {
   "codemirror_mode": {
    "name": "ipython",
    "version": 3
   },
   "file_extension": ".py",
   "mimetype": "text/x-python",
   "name": "python",
   "nbconvert_exporter": "python",
   "pygments_lexer": "ipython3",
   "version": "3.7.10"
  }
 },
 "nbformat": 4,
 "nbformat_minor": 4
}
