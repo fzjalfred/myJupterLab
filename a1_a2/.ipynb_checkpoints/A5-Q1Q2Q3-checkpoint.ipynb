{
 "cells": [
  {
   "cell_type": "markdown",
   "metadata": {
    "heading_collapsed": true
   },
   "source": [
    "# A5Q1: SparseMatMult"
   ]
  },
  {
   "cell_type": "code",
   "execution_count": 1,
   "metadata": {
    "hidden": true
   },
   "outputs": [],
   "source": [
    "import numpy as np\n",
    "from scipy.sparse import dok_matrix\n",
    "from copy import deepcopy\n",
    "import matplotlib.pyplot as plt"
   ]
  },
  {
   "cell_type": "code",
   "execution_count": 2,
   "metadata": {
    "hidden": true
   },
   "outputs": [],
   "source": [
    "def SparseMatMult(G, x):\n",
    "    '''\n",
    "      y = SparseMatMult(G, x)\n",
    "      \n",
    "      Multiplies a vector (x) by a sparse matrix G,\n",
    "      such that y = G @ x .\n",
    "      \n",
    "      Inputs:\n",
    "        G is an NxM dictionary-of-keys (dok) sparse matrix\n",
    "        x is an M-vector\n",
    "      \n",
    "      Output:\n",
    "        y is an N-vector\n",
    "    '''\n",
    "    rows,cols = G.nonzero()\n",
    "    Nrows,Ncols = np.shape(G)\n",
    "    y = np.zeros(Nrows)\n",
    "    # [5] for looping over non-zero elements of G\n",
    "    for r,c in zip(rows,cols):\n",
    "        y[r] += G[r,c]*x[c]   # [5] for correct computation\n",
    "    return y"
   ]
  },
  {
   "cell_type": "markdown",
   "metadata": {},
   "source": [
    "# A5Q2: Page Rank"
   ]
  },
  {
   "cell_type": "code",
   "execution_count": 3,
   "metadata": {
    "code_folding": []
   },
   "outputs": [],
   "source": [
    "def PageRank(G, alpha):\n",
    "    '''\n",
    "     p, iters = PageRank(G, alpha)\n",
    "\n",
    "     Computes the Google Page-rank for the network in the adjacency matrix G.\n",
    "     \n",
    "     Note: This function never forms a full RxR matrix, where R is the number\n",
    "           of node in the network.\n",
    "\n",
    "     Input\n",
    "       G     is an RxR adjacency matrix, G[i,j] = 1 iff node j projects to node i\n",
    "             Note: G must be a dictionary-of-keys (dok) sparse matrix\n",
    "       alpha is a scalar between 0 and 1\n",
    "\n",
    "     Output\n",
    "       p     is a probability vector containing the Page-rank of each node\n",
    "       iters is the number of iterations used to achieve a change tolerance\n",
    "             of 1e-8 (changes to elements of p are all smaller than 1e-8)\n",
    "\n",
    "     [-1] if code is not readable\n",
    "    '''\n",
    "    R = np.shape(G)[0]\n",
    "    rows,cols = G.nonzero()\n",
    "    \n",
    "    # [3] for making columns of G sum to 1\n",
    "    \n",
    "    # Add down the columns\n",
    "    colsum = np.zeros(R)\n",
    "    for r, c in zip(rows,cols):\n",
    "        colsum[c] += G[r,c]\n",
    "    \n",
    "    # Divide each column by its sum\n",
    "    P = deepcopy(G)\n",
    "    for r, c in zip(rows, cols):\n",
    "        P[r,c] /= colsum[c]    \n",
    "   \n",
    "    # Indicator vector for terminal pages\n",
    "    d = [(1. if s==0 else 0) for s in colsum]\n",
    "    # e : vector of ones\n",
    "    e = np.ones(R, dtype=float)\n",
    "    \n",
    "    p = np.ones(R, dtype=float) / R # [3] Initial prob. vector\n",
    "\n",
    "    iters = 0\n",
    "    err = 1000\n",
    "    maxIter = 10000\n",
    "    \n",
    "    # [3] Terminate when infinity norm is below threshold\n",
    "    #     (maxIter condition is not necessary)\n",
    "    while err>1e-8 and iters<maxIter:\n",
    "        \n",
    "        # [3] Sparse Multiply by P\n",
    "        # [3] Do (d*p) before e*d and remove e*p in the last term (it equals 1)\n",
    "        Mp = alpha*(SparseMatMult(P, p) + e*(d@p)/R) + (1-alpha)/R*e\n",
    "\n",
    "        err = np.linalg.norm(p-Mp, np.inf)\n",
    "        # Could also use max function.\n",
    "        \n",
    "        p = Mp\n",
    "        \n",
    "        iters += 1\n",
    "    \n",
    "    if iters==maxIter:\n",
    "        disp('Failed to converge');\n",
    "\n",
    "    return p, iters"
   ]
  },
  {
   "cell_type": "markdown",
   "metadata": {},
   "source": [
    "# AQ3: Illegal Trading Network"
   ]
  },
  {
   "cell_type": "markdown",
   "metadata": {},
   "source": [
    "## (a) Create sparse matrix"
   ]
  },
  {
   "cell_type": "code",
   "execution_count": 4,
   "metadata": {},
   "outputs": [],
   "source": [
    "# [3] Create sparse matrix\n",
    "G = dok_matrix((12,12), dtype=np.float32)"
   ]
  },
  {
   "cell_type": "code",
   "execution_count": 5,
   "metadata": {
    "code_folding": []
   },
   "outputs": [],
   "source": [
    "# [3] Set the nonzero elements of G\n",
    "G[1,0] = 38\n",
    "G[2,0] = 38\n",
    "G[4,0] = 24\n",
    "G[0,1] = 6\n",
    "G[2,1] = 41\n",
    "G[5,1] = 53\n",
    "G[0,2] = 47\n",
    "G[1,2] = 29\n",
    "G[3,2] = 24\n",
    "G[2,3] = 8\n",
    "G[4,3] = 42\n",
    "G[5,3] = 50\n",
    "G[0,4] = 9\n",
    "G[3,4] = 4\n",
    "G[5,4] = 9\n",
    "G[6,4] = 39\n",
    "G[11,4] = 39\n",
    "G[1,5] = 9\n",
    "G[3,5] = 28\n",
    "G[4,5] = 19\n",
    "G[7,5] = 22\n",
    "G[11,5] = 22\n",
    "G[4,6] = 13\n",
    "G[7,6] = 17\n",
    "G[8,6] = 23\n",
    "G[9,6] = 27\n",
    "G[11,6] = 20\n",
    "G[5,7] = 15\n",
    "G[6,7] = 21\n",
    "G[8,7] = 21\n",
    "G[9,7] = 10\n",
    "G[10,7] = 18\n",
    "G[11,7] = 15\n",
    "G[6,8] = 24\n",
    "G[7,8] = 24\n",
    "G[9,8] = 32\n",
    "G[10,8] = 20\n",
    "G[6,9] = 30\n",
    "G[7,9] = 40\n",
    "G[8,9] = 5\n",
    "G[10,9] = 25\n",
    "G[7,10] = 33\n",
    "G[8,10] = 7\n",
    "G[9,10] = 60\n",
    "G[4,11] = 6\n",
    "G[5,11] = 18\n",
    "G[6,11] = 47\n",
    "G[7,11] = 29"
   ]
  },
  {
   "cell_type": "markdown",
   "metadata": {},
   "source": [
    "## (b) Run PageRank on netork"
   ]
  },
  {
   "cell_type": "code",
   "execution_count": 6,
   "metadata": {},
   "outputs": [],
   "source": [
    "# [3] Call PageRank with alpha=1\n",
    "p,iters = PageRank(G, 1.)"
   ]
  },
  {
   "cell_type": "code",
   "execution_count": 7,
   "metadata": {},
   "outputs": [
    {
     "data": {
      "image/png": "[encoded data removed]",
      "text/plain": [
       "<matplotlib.figure.Figure at 0x113a1bc88>"
      ]
     },
     "metadata": {
      "needs_background": "light"
     },
     "output_type": "display_data"
    }
   ],
   "source": [
    "# [3] Plot importance for all the nodes\n",
    "plt.stem(p)\n",
    "plt.xlabel('Node')\n",
    "plt.ylabel('Importance');\n",
    "# [-1.5] if axes aren't labelled"
   ]
  },
  {
   "cell_type": "markdown",
   "metadata": {},
   "source": [
    "## (c) Note to police"
   ]
  },
  {
   "cell_type": "markdown",
   "metadata": {},
   "source": [
    "YOUR COMMENTS HERE"
   ]
  },
  {
   "cell_type": "markdown",
   "metadata": {},
   "source": [
    "Member \"H\" is the most influential trader in the network.\n",
    "\n",
    "__[3] for statement (make sure it matches their plot)__"
   ]
  }
 ],
 "metadata": {
  "kernelspec": {
   "display_name": "Python 3",
   "language": "python",
   "name": "python3"
  },
  "language_info": {
   "codemirror_mode": {
    "name": "ipython",
    "version": 3
   },
   "file_extension": ".py",
   "mimetype": "text/x-python",
   "name": "python",
   "nbconvert_exporter": "python",
   "pygments_lexer": "ipython3",
   "version": "3.7.10"
  }
 },
 "nbformat": 4,
 "nbformat_minor": 4
}
