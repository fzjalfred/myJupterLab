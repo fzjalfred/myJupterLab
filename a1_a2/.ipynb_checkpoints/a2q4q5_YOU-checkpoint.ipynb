{
 "cells": [
  {
   "cell_type": "markdown",
   "metadata": {},
   "source": [
    "# A2: Q4 and Q5"
   ]
  },
  {
   "cell_type": "code",
   "execution_count": 34,
   "metadata": {},
   "outputs": [],
   "source": [
    "import numpy as np\n",
    "from scipy.sparse import dok_matrix\n",
    "from copy import deepcopy\n",
    "import matplotlib.pyplot as plt"
   ]
  },
  {
   "cell_type": "markdown",
   "metadata": {},
   "source": [
    "# A2Q4a: `SparseMatMult`"
   ]
  },
  {
   "cell_type": "code",
   "execution_count": 56,
   "metadata": {},
   "outputs": [],
   "source": [
    "def SparseMatMult(G, x):\n",
    "    '''\n",
    "      y = SparseMatMult(G, x)\n",
    "      \n",
    "      Multiplies a vector (x) by a sparse matrix G,\n",
    "      such that y = G @ x .\n",
    "      \n",
    "      Inputs:\n",
    "        G is an NxM dictionary-of-keys (dok) sparse matrix\n",
    "        x is an M-vector\n",
    "      \n",
    "      Output:\n",
    "        y is an N-vector\n",
    "    '''\n",
    "    rows,cols = G.nonzero()\n",
    "    Nrows,Ncols = np.shape(G)\n",
    "    y = np.zeros(Nrows)\n",
    "    \n",
    "    for r,c in zip(rows, cols):\n",
    "        y[r] += G[r,c]*x[c]\n",
    "    return y"
   ]
  },
  {
   "cell_type": "code",
   "execution_count": 57,
   "metadata": {},
   "outputs": [
    {
     "name": "stdout",
     "output_type": "stream",
     "text": [
      "y = [ 0.1 -0.3  0.4]\n",
      "Answer should be [ 0.1 -0.3  0.4]\n"
     ]
    }
   ],
   "source": [
    "# Simple test\n",
    "#     [1  0  0]      [ 0.1 ]\n",
    "# A = [0  0 -1]  b = [ 0.2 ]\n",
    "#     [0  2  0]      [ 0.3 ]\n",
    "A = dok_matrix((3,3), dtype=np.float32)\n",
    "A[0,0] = 1.\n",
    "A[1,2] = -1.\n",
    "A[2,1] = 2.\n",
    "b = np.array([0.1, 0.2, 0.3])\n",
    "y = SparseMatMult(A, b)\n",
    "print(f'y = {y}')\n",
    "print(f'Answer should be [ 0.1 -0.3  0.4]')"
   ]
  },
  {
   "cell_type": "markdown",
   "metadata": {},
   "source": [
    "# A2Q4b: `PageRank`"
   ]
  },
  {
   "cell_type": "code",
   "execution_count": 83,
   "metadata": {
    "code_folding": []
   },
   "outputs": [],
   "source": [
    "def PageRank(G, alpha):\n",
    "    '''\n",
    "     p, iters = PageRank(G, alpha)\n",
    "\n",
    "     Computes the Google Page-rank for the network in the adjacency matrix G.\n",
    "     \n",
    "     Note: This function never forms a full RxR matrix, where R is the number\n",
    "           of node in the network.\n",
    "\n",
    "     Input\n",
    "       G     is an RxR adjacency matrix, G[i,j] = 1 iff node j projects to node i\n",
    "             Note: G must be a dictionary-of-keys (dok) sparse matrix\n",
    "       alpha is a scalar between 0 and 1\n",
    "\n",
    "     Output\n",
    "       p     is a probability vector containing the Page-rank of each node\n",
    "       iters is the number of iterations used to achieve a change tolerance\n",
    "             of 1e-8 (changes to elements of p are all smaller than 1e-8)\n",
    "    '''\n",
    "    R = np.shape(G)[0]\n",
    "    rows,cols = G.nonzero()\n",
    "    iters = 0\n",
    "\n",
    "    sums_column = np.zeros(R)\n",
    "    P0 = deepcopy(G)\n",
    "    \n",
    "    for r,c in zip(rows, cols):\n",
    "        sums_column[c] += G[r,c]\n",
    "\n",
    "    for r,c in zip(rows, cols):\n",
    "        P0 /= sums_column[c]\n",
    "        \n",
    "    d = np.array([(1 if c==0 else 0) for c in sums_column])\n",
    "    e = np.ones(R, dtype=float)\n",
    "    p = np.ones(R, dtype=float)\n",
    "    \n",
    "    iter_count = 100000\n",
    "    err = 1\n",
    "    \n",
    "    while iters<iter_count and err>1e-8:\n",
    "        M = alpha*(SparseMatMult(P0, p) + e*(d@p)/R) + (1-alpha)/R*e\n",
    "        err = np.linalg.norm(p-M, np.inf)\n",
    "        p=M\n",
    "        iters+=1\n",
    "        if iters==iter_count:\n",
    "            disp('error detected')\n",
    "        \n",
    "    return p, iters"
   ]
  },
  {
   "cell_type": "markdown",
   "metadata": {},
   "source": [
    "# A2Q5: Illegal Trading Network"
   ]
  },
  {
   "cell_type": "markdown",
   "metadata": {},
   "source": [
    "## (a) Create sparse matrix"
   ]
  },
  {
   "cell_type": "code",
   "execution_count": 84,
   "metadata": {},
   "outputs": [],
   "source": [
    "# === YOUR CODE HERE ===\n",
    "G = dok_matrix((12,12), dtype=float)\n",
    "#A:0\n",
    "#B:1\n",
    "#C:2\n",
    "#D:3\n",
    "#E:4\n",
    "#F:5\n",
    "#G:6\n",
    "#H:7\n",
    "#I:8\n",
    "#J:9\n",
    "#K:10\n",
    "#l:11\n",
    "G[1,0] = 38\n",
    "G[2,0] = 38\n",
    "G[4,0] = 24\n",
    "G[0,1] = 6\n",
    "G[2,1] = 41\n",
    "G[5,1] = 53\n",
    "G[0,2] = 47\n",
    "G[1,2] = 29\n",
    "G[3,2] = 24\n",
    "G[2,3] = 8\n",
    "G[4,3] = 42\n",
    "G[5,3] = 50\n",
    "G[0,4] = 9\n",
    "G[3,4] = 4\n",
    "G[5,4] = 9\n",
    "G[6,4] = 39\n",
    "G[11,4] = 39\n",
    "G[1,5] = 9\n",
    "G[3,5] = 28\n",
    "G[4,5] = 19\n",
    "G[7,5] = 22\n",
    "G[11,5] = 22\n",
    "G[4,6] = 13\n",
    "G[7,6] = 17\n",
    "G[8,6] = 23\n",
    "G[9,6] = 27\n",
    "G[11,6] = 20\n",
    "G[5,7] = 15\n",
    "G[6,7] = 21\n",
    "G[8,7] = 21\n",
    "G[9,7] = 10\n",
    "G[10,7] = 18\n",
    "G[11,7] = 15\n",
    "G[6,8] = 24\n",
    "G[7,8] = 24\n",
    "G[9,8] = 32\n",
    "G[10,8] = 20\n",
    "G[6,9] = 30\n",
    "G[7,9] = 40\n",
    "G[8,9] = 5\n",
    "G[10,9] = 25\n",
    "G[7,10] = 33\n",
    "G[8,10] = 7\n",
    "G[9,10] = 60\n",
    "G[4,11] = 6\n",
    "G[5,11] = 18\n",
    "G[6,11] = 47\n",
    "G[7,11] = 29\n"
   ]
  },
  {
   "cell_type": "markdown",
   "metadata": {},
   "source": [
    "## (b) Run PageRank on network"
   ]
  },
  {
   "cell_type": "code",
   "execution_count": 85,
   "metadata": {},
   "outputs": [],
   "source": [
    "# === YOUR CODE HERE ===\n",
    "p,iters = PageRank(G, float(1))"
   ]
  },
  {
   "cell_type": "markdown",
   "metadata": {},
   "source": [
    "## (c) Note to police"
   ]
  },
  {
   "cell_type": "markdown",
   "metadata": {},
   "source": [
    "DOUBLE-CLICK TO PLACE YOUR COMMENTS HERE\n"
   ]
  },
  {
   "cell_type": "code",
   "execution_count": 86,
   "metadata": {},
   "outputs": [
    {
     "data": {
      "image/png": "[encoded data removed]",
      "text/plain": [
       "<Figure size 432x288 with 1 Axes>"
      ]
     },
     "metadata": {
      "needs_background": "light"
     },
     "output_type": "display_data"
    }
   ],
   "source": [
    "plt.stem(p)\n",
    "plt.xlabel('Node')\n",
    "plt.ylabel('Rank');"
   ]
  },
  {
   "cell_type": "code",
   "execution_count": null,
   "metadata": {},
   "outputs": [],
   "source": []
  }
 ],
 "metadata": {
  "kernelspec": {
   "display_name": "Python 3",
   "language": "python",
   "name": "python3"
  },
  "language_info": {
   "codemirror_mode": {
    "name": "ipython",
    "version": 3
   },
   "file_extension": ".py",
   "mimetype": "text/x-python",
   "name": "python",
   "nbconvert_exporter": "python",
   "pygments_lexer": "ipython3",
   "version": "3.7.10"
  }
 },
 "nbformat": 4,
 "nbformat_minor": 4
}
