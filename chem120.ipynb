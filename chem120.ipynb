#Algorithm R
from math import sqrt
from itertools import groupby
N_A = 6.022e23

#photoelectric effect
RH = 2.179e-18
me = 9.109e-31
e = 1.602e-19
h=6.626e-34
#epsilon_o = 8.854e-12
#h=6.626e-34

H = 1.008
C = 12.01
O = 16.00
N = 14.01
Si = 28.09
P = 30.97
Cl=35.45
Mg=24.31

O2 = 2*O
HCl=36.45
HNO3=H+N+O*3
H2O = 2*H + O
SiO2 = Si + 2*O
CH4 = C+H*4
C2H6 = C*2 + H*6
CO2 = C+O*2
NH3 = N+H*3

def m_nm(m):
    return m*1e9;

def nm_m(nm):
    return nm/1e9

def e(num):
    print("{:e}".format(num))
