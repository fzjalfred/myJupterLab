{
 "cells": [
  {
   "cell_type": "code",
   "execution_count": 1,
   "id": "1672caad-b6cb-4e29-b3d3-36d31f9a7bbf",
   "metadata": {},
   "outputs": [],
   "source": [
    "#Algorithm R\n",
    "from math import sqrt\n",
    "from math import exp\n",
    "from itertools import groupby\n",
    "N_A = 6.022e23\n",
    "\n",
    "#photoelectric effect\n",
    "RH = 2.179e-18\n",
    "me = 9.109e-31\n",
    "e = 1.602e-19\n",
    "h=6.626e-34\n",
    "#epsilon_o = 8.854e-12\n",
    "#h=6.626e-34\n",
    "\n",
    "H = 1.008\n",
    "C = 12.01\n",
    "O = 16.00\n",
    "N = 14.01\n",
    "Si = 28.09\n",
    "P = 30.97\n",
    "Cl=35.45\n",
    "Mg=24.31\n",
    "Li=6.94\n",
    "K=39.10\n",
    "\n",
    "O2 = 2*O\n",
    "HCl=36.45\n",
    "HNO3=H+N+O*3\n",
    "H2O = 2*H + O\n",
    "SiO2 = Si + 2*O\n",
    "CH4 = C+H*4\n",
    "C2H6 = C*2 + H*6\n",
    "CO2 = C+O*2\n",
    "NH3 = N+H*3\n",
    "\n",
    "def m_nm(m):\n",
    "    return m*1e9;\n",
    "\n",
    "def nm_m(nm):\n",
    "    return nm/1e9\n",
    "\n",
    "def e(num):\n",
    "    print(\"{:e}\".format(num))\n",
    "\n",
    "R = 0.082058"
   ]
  },
  {
   "cell_type": "code",
   "execution_count": 2,
   "id": "d8d31cb6-895a-4c38-b43b-450577d8d511",
   "metadata": {},
   "outputs": [
    {
     "data": {
      "text/plain": [
       "'1.585264e+14'"
      ]
     },
     "execution_count": 2,
     "metadata": {},
     "output_type": "execute_result"
    }
   ],
   "source": [
    "\"{:e}\".format(4.27e-9/(20*C+24*H+2*O+2*N)*20*N_A)"
   ]
  },
  {
   "cell_type": "code",
   "execution_count": 3,
   "id": "9ba5a016-0be9-46ca-9834-fe7bdab6808f",
   "metadata": {},
   "outputs": [
    {
     "name": "stdout",
     "output_type": "stream",
     "text": [
      "0.09790869251678037\n",
      "3.032232e+00\n",
      "0.06492221756788098\n"
     ]
    }
   ],
   "source": [
    "n_c = 35.78/(C+2*O)\n",
    "m_c = n_c*C\n",
    "n_H = (11.13-m_c)/H\n",
    "#n_H = 12.21/(H2O)*2\n",
    "n_c/n_H\n",
    "\n",
    "n_ca3 = 63.6/310.18\n",
    "# n_p4 = n_ca3/2\n",
    "# print(n_p4)\n",
    "n_sio2 = 35.3/SiO2\n",
    "n_p4 = n_sio2/6\n",
    "print(n_p4)\n",
    "print(\"{:e}\".format(n_p4*P))\n",
    "\n",
    "c12h22o11= C*12 + H*22 + O*11\n",
    "n = 16.23*0.89/c12h22o11\n",
    "n_m = n/0.65\n",
    "print(n_m)\n",
    "\n",
    "\n",
    "\n",
    "\n",
    "\n"
   ]
  },
  {
   "cell_type": "code",
   "execution_count": 4,
   "id": "8ab50706-10f3-40de-92f3-5e8647d5397d",
   "metadata": {},
   "outputs": [
    {
     "data": {
      "text/plain": [
       "40.00853259397993"
      ]
     },
     "execution_count": 4,
     "metadata": {},
     "output_type": "execute_result"
    }
   ],
   "source": [
    "h=6.626e-34\n",
    "c=2.998e8\n",
    "m = h*c/(2.99e6/N_A)\n",
    "m_nm(m)"
   ]
  },
  {
   "cell_type": "code",
   "execution_count": 8,
   "id": "614a3c6f-bb63-48c9-8283-3d5518730558",
   "metadata": {},
   "outputs": [
    {
     "data": {
      "text/plain": [
       "5.481755561899328e-20"
      ]
     },
     "execution_count": 8,
     "metadata": {},
     "output_type": "execute_result"
    }
   ],
   "source": [
    "Ephoton = h*c/nm_m(310)\n",
    "w = h*c/nm_m(339)\n",
    "Ephoton - w"
   ]
  },
  {
   "cell_type": "code",
   "execution_count": 9,
   "id": "8dd01856-103a-4f84-8e5a-0e1d446dda0b",
   "metadata": {},
   "outputs": [
    {
     "data": {
      "text/plain": [
       "97.24215022181428"
      ]
     },
     "execution_count": 9,
     "metadata": {},
     "output_type": "execute_result"
    }
   ],
   "source": [
    "Ephoton = -RH/16 + RH/1\n",
    "Ephoton\n",
    "m_nm(h*c/Ephoton)"
   ]
  },
  {
   "cell_type": "code",
   "execution_count": null,
   "id": "b13e0d57-5802-41da-aa8b-2a460afe2e4d",
   "metadata": {},
   "outputs": [
    {
     "data": {
      "text/plain": [
       "9.724215022181428e-08"
      ]
     },
     "execution_count": 9,
     "metadata": {},
     "output_type": "execute_result"
    }
   ],
   "source": [
    "h*c/Ephoton"
   ]
  },
  {
   "cell_type": "code",
   "execution_count": null,
   "id": "97e983a1-2c40-4635-ad46-119ea5bf1473",
   "metadata": {},
   "outputs": [
    {
     "name": "stdout",
     "output_type": "stream",
     "text": [
      "-1.021406e-19\n",
      "-1.541513e+14\n"
     ]
    }
   ],
   "source": [
    "Ephoton = -RH/16 + RH/64\n",
    "e(Ephoton)\n",
    "e(Ephoton/h)"
   ]
  },
  {
   "cell_type": "code",
   "execution_count": null,
   "id": "7e4756c6-798e-4732-842b-aa0715ef9b06",
   "metadata": {},
   "outputs": [
    {
     "data": {
      "text/plain": [
       "46.6290031555154"
      ]
     },
     "execution_count": 11,
     "metadata": {},
     "output_type": "execute_result"
    }
   ],
   "source": [
    "h/me/15.6e-6"
   ]
  },
  {
   "cell_type": "code",
   "execution_count": null,
   "id": "b47c7ada-5320-4851-a26e-ccc4a82b05ce",
   "metadata": {},
   "outputs": [
    {
     "data": {
      "text/plain": [
       "121.55268777726785"
      ]
     },
     "execution_count": 12,
     "metadata": {},
     "output_type": "execute_result"
    }
   ],
   "source": [
    "RH = 2.179e-18\n",
    "h=6.626e-34\n",
    "c=2.998e8\n",
    "m_nm(h*c/(-RH/4+RH))\n"
   ]
  },
  {
   "cell_type": "code",
   "execution_count": null,
   "id": "5b3c769a-cbf9-4cdf-aaa7-6be59c8b97a6",
   "metadata": {},
   "outputs": [
    {
     "data": {
      "text/plain": [
       "17.0"
      ]
     },
     "execution_count": 13,
     "metadata": {},
     "output_type": "execute_result"
    }
   ],
   "source": [
    "N/N+O"
   ]
  },
  {
   "cell_type": "code",
   "execution_count": null,
   "id": "bb0bf641-9ef2-4571-b6c0-492ba89f5ffa",
   "metadata": {},
   "outputs": [
    {
     "name": "stdout",
     "output_type": "stream",
     "text": [
      "1.622789e-01\n",
      "2.175000e-01\n",
      "6.541462e+00\n"
     ]
    },
    {
     "data": {
      "text/plain": [
       "1.767075277663512"
      ]
     },
     "execution_count": 14,
     "metadata": {},
     "output_type": "execute_result"
    }
   ],
   "source": [
    "nMg = 7.89/(2*Mg)\n",
    "nO2 = 6.96/(O2)\n",
    "e(nMg)\n",
    "e(nO2)\n",
    "e(nMg*(Mg+O))\n",
    "7.89+6.96-nMg*2*(Mg+O)"
   ]
  },
  {
   "cell_type": "code",
   "execution_count": null,
   "id": "548b0461-63de-458d-bcf9-f5735cb00a77",
   "metadata": {},
   "outputs": [
    {
     "data": {
      "text/plain": [
       "0.3736271186440679"
      ]
     },
     "execution_count": 15,
     "metadata": {},
     "output_type": "execute_result"
    }
   ],
   "source": [
    "0.792*0.334/2/0.354"
   ]
  },
  {
   "cell_type": "code",
   "execution_count": null,
   "id": "49d37e12-a530-494a-98bb-313a2de0e6c7",
   "metadata": {},
   "outputs": [
    {
     "data": {
      "text/plain": [
       "5.04962819508722"
      ]
     },
     "execution_count": 16,
     "metadata": {},
     "output_type": "execute_result"
    }
   ],
   "source": [
    "4.46/Si/3*(3*Si+4*N)*0.68"
   ]
  },
  {
   "cell_type": "markdown",
   "id": "77747cfe-ee92-45cb-bb3a-d793e162dec2",
   "metadata": {},
   "source": [
    "5.64/233.36*261.32"
   ]
  },
  {
   "cell_type": "code",
   "execution_count": null,
   "id": "cb98a06e-2816-4345-8e14-36bc4b1fed94",
   "metadata": {},
   "outputs": [
    {
     "data": {
      "text/plain": [
       "0.2690097322210797"
      ]
     },
     "execution_count": 17,
     "metadata": {},
     "output_type": "execute_result"
    }
   ],
   "source": [
    "(8.64-5.64/233.36*261.32)/8.64"
   ]
  },
  {
   "cell_type": "code",
   "execution_count": null,
   "id": "b3427708-c94c-4f5d-8bd7-05b78182035a",
   "metadata": {},
   "outputs": [
    {
     "data": {
      "text/plain": [
       "0.14285714285714285"
      ]
     },
     "execution_count": 18,
     "metadata": {},
     "output_type": "execute_result"
    }
   ],
   "source": [
    "1/7"
   ]
  },
  {
   "cell_type": "code",
   "execution_count": null,
   "id": "40b67bbe-290d-4e9e-8aaa-1db34338b4b1",
   "metadata": {},
   "outputs": [
    {
     "data": {
      "text/plain": [
       "0.5092153926093469"
      ]
     },
     "execution_count": 19,
     "metadata": {},
     "output_type": "execute_result"
    }
   ],
   "source": [
    "166.6/(118.96+106.12+102.09)"
   ]
  },
  {
   "cell_type": "code",
   "execution_count": null,
   "id": "4f248d23-a8e3-42a2-b9eb-230798faabd1",
   "metadata": {},
   "outputs": [
    {
     "data": {
      "text/plain": [
       "121.55268777726785"
      ]
     },
     "execution_count": 20,
     "metadata": {},
     "output_type": "execute_result"
    }
   ],
   "source": [
    "m_nm(h*c/(-RH/4+RH))"
   ]
  },
  {
   "cell_type": "code",
   "execution_count": null,
   "id": "df2e71c9-dc94-45c3-a028-5f72ef8decf1",
   "metadata": {},
   "outputs": [
    {
     "data": {
      "text/plain": [
       "102.56008031206974"
      ]
     },
     "execution_count": 21,
     "metadata": {},
     "output_type": "execute_result"
    }
   ],
   "source": [
    "m_nm(h*c/(-RH/9+RH))"
   ]
  },
  {
   "cell_type": "code",
   "execution_count": null,
   "id": "c885fb95-80e3-45b2-b7f6-d55be098e7a1",
   "metadata": {},
   "outputs": [
    {
     "data": {
      "text/plain": [
       "94.96303732599051"
      ]
     },
     "execution_count": 22,
     "metadata": {},
     "output_type": "execute_result"
    }
   ],
   "source": [
    "m_nm(h*c/(-RH/25+RH))"
   ]
  },
  {
   "cell_type": "code",
   "execution_count": null,
   "id": "b9828f39-fad6-426a-8b5d-2dfb79f8598d",
   "metadata": {},
   "outputs": [
    {
     "data": {
      "text/plain": [
       "434.11674206167083"
      ]
     },
     "execution_count": 23,
     "metadata": {},
     "output_type": "execute_result"
    }
   ],
   "source": [
    "m_nm(h*c/(-RH/25+RH/4))"
   ]
  },
  {
   "cell_type": "code",
   "execution_count": null,
   "id": "614e7b82-bc0f-4ac1-9164-c6e45f981a67",
   "metadata": {},
   "outputs": [
    {
     "data": {
      "text/plain": [
       "3.4461638121003846"
      ]
     },
     "execution_count": 27,
     "metadata": {},
     "output_type": "execute_result"
    }
   ],
   "source": [
    "3*(exp(1)**0.5) - 0.5 -1"
   ]
  },
  {
   "cell_type": "code",
   "execution_count": null,
   "id": "a6c78fff-00fe-4fdd-a92a-2281200f53e8",
   "metadata": {},
   "outputs": [
    {
     "data": {
      "text/plain": [
       "6.154845485377136"
      ]
     },
     "execution_count": 28,
     "metadata": {},
     "output_type": "execute_result"
    }
   ],
   "source": [
    "3*exp(1)-1-1"
   ]
  },
  {
   "cell_type": "code",
   "execution_count": null,
   "id": "fc4112ea-3522-4d74-8f08-7419a7fedd69",
   "metadata": {},
   "outputs": [
    {
     "data": {
      "text/plain": [
       "1.40484"
      ]
     },
     "execution_count": 29,
     "metadata": {},
     "output_type": "execute_result"
    }
   ],
   "source": [
    "6.15484-4.75\n"
   ]
  },
  {
   "cell_type": "code",
   "execution_count": null,
   "id": "fc86a340-3f2c-44d2-82ca-72691d1bf8db",
   "metadata": {},
   "outputs": [
    {
     "data": {
      "text/plain": [
       "-1.8752441724182837e-06"
      ]
     },
     "execution_count": 1,
     "metadata": {},
     "output_type": "execute_result"
    }
   ],
   "source": [
    "1/(1.097e7*(1/16-1/9))"
   ]
  },
  {
   "cell_type": "code",
   "execution_count": 35,
   "id": "42cc3a8a-8650-4104-9513-e56695f1d740",
   "metadata": {},
   "outputs": [
    {
     "name": "stdout",
     "output_type": "stream",
     "text": [
      "9.574367e+02\n"
     ]
    }
   ],
   "source": [
    "T = 2.9*67.9/1.95/R\n",
    "e(T-273.15)"
   ]
  },
  {
   "cell_type": "code",
   "execution_count": 39,
   "id": "a1218a29-063b-4f30-be8a-70c58f4066d5",
   "metadata": {},
   "outputs": [],
   "source": [
    "c6h6o=6*C+H*6+O\n",
    "n = 7*18/c6h6o\n",
    "T = 273.15+28\n",
    "P = 1.06184"
   ]
  },
  {
   "cell_type": "code",
   "execution_count": 40,
   "id": "a54fe3f0-a3b9-413b-85da-10a27649d484",
   "metadata": {},
   "outputs": [
    {
     "name": "stdout",
     "output_type": "stream",
     "text": [
      "3.115937e+01\n"
     ]
    }
   ],
   "source": [
    "v = T*n*R/P\n",
    "e(v)"
   ]
  },
  {
   "cell_type": "code",
   "execution_count": 19,
   "id": "1163dfc5-a2d2-49df-ad74-a2904e75bfcc",
   "metadata": {},
   "outputs": [],
   "source": [
    "lioh=Li+O+H\n",
    "n = 1080/lioh/2\n",
    "T = 33.9+273.15\n",
    "P = 743/760"
   ]
  },
  {
   "cell_type": "code",
   "execution_count": 21,
   "id": "3b1f9635-07bb-4c35-8982-79662233cc34",
   "metadata": {},
   "outputs": [
    {
     "name": "stdout",
     "output_type": "stream",
     "text": [
      "5.811381e+02\n"
     ]
    }
   ],
   "source": [
    "v = T*n*R/P\n",
    "e(v)"
   ]
  },
  {
   "cell_type": "code",
   "execution_count": 24,
   "id": "61829b38-8ad7-46d8-b85b-8a07774e347b",
   "metadata": {},
   "outputs": [
    {
     "name": "stdout",
     "output_type": "stream",
     "text": [
      "2.112624e-01\n",
      "1.186666e-01\n",
      "7.920000e+00\n"
     ]
    }
   ],
   "source": [
    "T=711+273.15\n",
    "P=1.21\n",
    "vCO=28.2\n",
    "vH2=39.6\n",
    "nCO=P*vCO/(R*T)\n",
    "nH2=P*vH2/(R*T)\n",
    "e(nCO/2)\n",
    "e(nH2/5)\n",
    "v = T*(nH2/5)*R/P\n",
    "e(v)"
   ]
  },
  {
   "cell_type": "code",
   "execution_count": 29,
   "id": "7f535145-e349-4bdd-bcd9-4eb5b1336d95",
   "metadata": {},
   "outputs": [
    {
     "name": "stdout",
     "output_type": "stream",
     "text": [
      "1.576278e-01\n",
      "5.278876e+00\n"
     ]
    }
   ],
   "source": [
    "T=237+273.15\n",
    "V=1.25\n",
    "nh4clo4=N+4*H+Cl+4*O\n",
    "n=4.63/nh4clo4*4\n",
    "P=n*R*T/V\n",
    "e(n)\n",
    "e(P)"
   ]
  },
  {
   "cell_type": "code",
   "execution_count": 34,
   "id": "a752079e-7121-40f2-b323-dbbd3202fb24",
   "metadata": {},
   "outputs": [
    {
     "name": "stdout",
     "output_type": "stream",
     "text": [
      "8.669414e+01\n"
     ]
    }
   ],
   "source": [
    "e((16.8**2)/(3.61**2)*4.003)"
   ]
  },
  {
   "cell_type": "markdown",
   "id": "cf6e1e7a-f2ec-4feb-b794-50533fa8bcac",
   "metadata": {},
   "source": [
    "3.97/2"
   ]
  },
  {
   "cell_type": "code",
   "execution_count": 33,
   "id": "27d398dd-e4d0-4b7c-87b0-21270f72a76a",
   "metadata": {},
   "outputs": [
    {
     "data": {
      "text/plain": [
       "7.94"
      ]
     },
     "execution_count": 33,
     "metadata": {},
     "output_type": "execute_result"
    }
   ],
   "source": [
    "3.97*2"
   ]
  },
  {
   "cell_type": "code",
   "execution_count": 3,
   "id": "047f2057-7fa2-464e-843c-6c651dcd1797",
   "metadata": {},
   "outputs": [
    {
     "name": "stdout",
     "output_type": "stream",
     "text": [
      "4.129616e+00\n"
     ]
    }
   ],
   "source": [
    "n= 26/CO2\n",
    "V=3.5\n",
    "T=25+273.15\n",
    "e(n*R*T/V)"
   ]
  },
  {
   "cell_type": "code",
   "execution_count": 7,
   "id": "76371839-1a17-4660-a859-883331bef19a",
   "metadata": {},
   "outputs": [
    {
     "name": "stdout",
     "output_type": "stream",
     "text": [
      "2.806295e+01\n"
     ]
    }
   ],
   "source": [
    "kclo3=122.55\n",
    "n=32.9/kclo3/2*3\n",
    "V=n*R*(565+273.15)/0.986923\n",
    "e(V)"
   ]
  },
  {
   "cell_type": "code",
   "execution_count": 11,
   "id": "c59e0960-4a63-49fe-bf7b-41c26ebfee9e",
   "metadata": {},
   "outputs": [
    {
     "name": "stdout",
     "output_type": "stream",
     "text": [
      "2.663700e+01\n"
     ]
    }
   ],
   "source": [
    "n2o2=N*2+O*2\n",
    "T=sqrt(n2o2)/sqrt(N*2)*18.2\n",
    "e(T)"
   ]
  },
  {
   "cell_type": "code",
   "execution_count": 13,
   "id": "3ab1ab1a-01f6-4f2f-9b74-3ba562318a24",
   "metadata": {},
   "outputs": [
    {
     "name": "stdout",
     "output_type": "stream",
     "text": [
      "0.21140836105485605\n"
     ]
    }
   ],
   "source": [
    "tnt = 227.14\n",
    "n = 6.74/tnt/2 *20\n",
    "np=6.74/tnt/2 *3\n",
    "P=n*R*(242+273.15)/8.9\n",
    "print(P/n*np)"
   ]
  },
  {
   "cell_type": "code",
   "execution_count": 15,
   "id": "abc8d557-24a9-48e6-8819-89aec1a38082",
   "metadata": {},
   "outputs": [
    {
     "name": "stdout",
     "output_type": "stream",
     "text": [
      "5.081368e-19\n",
      "3.911938431372549e-07\n"
     ]
    }
   ],
   "source": [
    "h = 6.626e-34\n",
    "E = 3.06e5/6.022e23\n",
    "e(E)\n",
    "v = E/h\n",
    "c = 3e8\n",
    "wave = c/v\n",
    "print(wave)"
   ]
  },
  {
   "cell_type": "code",
   "execution_count": 32,
   "id": "8104bcaa-c268-42da-a399-03715789259a",
   "metadata": {},
   "outputs": [
    {
     "name": "stdout",
     "output_type": "stream",
     "text": [
      "-1.936889e-18\n",
      "-1.0262849931161082\n"
     ]
    }
   ],
   "source": [
    "Rh = -2.179e-18\n",
    "h = 6.626e-34\n",
    "E = -Rh/9 - (-Rh/1)\n",
    "e(E)\n",
    "v = E/h\n",
    "c = 3e8\n",
    "wave = h*c/E\n",
    "print(wave*1e7)"
   ]
  },
  {
   "cell_type": "code",
   "execution_count": 33,
   "id": "22fa2e8e-73ef-45ca-afc5-54d153033d2e",
   "metadata": {},
   "outputs": [
    {
     "data": {
      "text/plain": [
       "49.109024000000005"
      ]
     },
     "execution_count": 33,
     "metadata": {},
     "output_type": "execute_result"
    }
   ],
   "source": [
    "46.046*0.3592+50.826*0.6408"
   ]
  },
  {
   "cell_type": "code",
   "execution_count": 34,
   "id": "17917631-27aa-4eaa-8c53-e10d1d44c0d1",
   "metadata": {},
   "outputs": [
    {
     "data": {
      "text/plain": [
       "0.47076968272620434"
      ]
     },
     "execution_count": 34,
     "metadata": {},
     "output_type": "execute_result"
    }
   ],
   "source": [
    "32.05/(17.03*2+34.02)"
   ]
  },
  {
   "cell_type": "code",
   "execution_count": 35,
   "id": "53db0765-f4dd-4f1c-ae43-aa821ea1bc6c",
   "metadata": {},
   "outputs": [
    {
     "data": {
      "text/plain": [
       "1.1235184029943852"
      ]
     },
     "execution_count": 35,
     "metadata": {},
     "output_type": "execute_result"
    }
   ],
   "source": [
    "(170.3+170.1-160.3)/160.3"
   ]
  },
  {
   "cell_type": "code",
   "execution_count": 36,
   "id": "2317e3f3-ebbd-4f18-9c42-f01ad045fbe6",
   "metadata": {},
   "outputs": [
    {
     "data": {
      "text/plain": [
       "11.076744859542426"
      ]
     },
     "execution_count": 36,
     "metadata": {},
     "output_type": "execute_result"
    }
   ],
   "source": [
    "6.83/138.12*32*7"
   ]
  },
  {
   "cell_type": "code",
   "execution_count": 38,
   "id": "3e9307e8-1b07-47b9-979a-306b3323e52a",
   "metadata": {},
   "outputs": [
    {
     "name": "stdout",
     "output_type": "stream",
     "text": [
      "0.017504086044182 0.02211431742508324\n",
      "1.3980513523488165\n"
     ]
    }
   ],
   "source": [
    "n1=3.32/189.67\n",
    "n2=0.797/18.02/2\n",
    "print(n1,n2)\n",
    "print(n1*79.87)"
   ]
  },
  {
   "cell_type": "code",
   "execution_count": 39,
   "id": "619d1044-55f3-46e4-8635-ac1a5f58eb3e",
   "metadata": {},
   "outputs": [
    {
     "data": {
      "text/plain": [
       "5.266316093418259"
      ]
     },
     "execution_count": 39,
     "metadata": {},
     "output_type": "execute_result"
    }
   ],
   "source": [
    "3.94/42.39*72.27*0.784"
   ]
  },
  {
   "cell_type": "code",
   "execution_count": 40,
   "id": "29c3e7c6-3901-4865-8627-46519b5a12ea",
   "metadata": {},
   "outputs": [
    {
     "data": {
      "text/plain": [
       "0.6108571428571429"
      ]
     },
     "execution_count": 40,
     "metadata": {},
     "output_type": "execute_result"
    }
   ],
   "source": [
    "4.276/7"
   ]
  },
  {
   "cell_type": "code",
   "execution_count": 42,
   "id": "4ab403ec-3942-48a2-80b4-0676e57f75aa",
   "metadata": {},
   "outputs": [
    {
     "data": {
      "text/plain": [
       "712.9747750362844"
      ]
     },
     "execution_count": 42,
     "metadata": {},
     "output_type": "execute_result"
    }
   ],
   "source": [
    "hclo4=H+Cl+4*O\n",
    "n=2.52*3.26\n",
    "n*hclo4/1.68/0.689"
   ]
  },
  {
   "cell_type": "code",
   "execution_count": 50,
   "id": "4b36a466-425b-4e76-ab89-f60748666e39",
   "metadata": {},
   "outputs": [
    {
     "name": "stdout",
     "output_type": "stream",
     "text": [
      "2.854200e-02\n"
     ]
    },
    {
     "data": {
      "text/plain": [
       "0.12545934065934067"
      ]
     },
     "execution_count": 50,
     "metadata": {},
     "output_type": "execute_result"
    }
   ],
   "source": [
    "I=126.9\n",
    "n=20.1e-3*1.42\n",
    "e(n)\n",
    "n/5/45.5e-3"
   ]
  },
  {
   "cell_type": "code",
   "execution_count": 8,
   "id": "71aca692-5b6b-4b47-a4da-2887840ec02c",
   "metadata": {},
   "outputs": [
    {
     "data": {
      "text/plain": [
       "152399025"
      ]
     },
     "execution_count": 8,
     "metadata": {},
     "output_type": "execute_result"
    }
   ],
   "source": [
    "12345**2\n"
   ]
  },
  {
   "cell_type": "code",
   "execution_count": 9,
   "id": "63be7b3a-d1f4-4e49-8535-69d8d392c8dd",
   "metadata": {},
   "outputs": [
    {
     "data": {
      "text/plain": [
       "152374336"
      ]
     },
     "execution_count": 9,
     "metadata": {},
     "output_type": "execute_result"
    }
   ],
   "source": [
    "12344**2"
   ]
  },
  {
   "cell_type": "code",
   "execution_count": 10,
   "id": "1b68a5db-a89b-43ab-8bd5-2779fdb90b25",
   "metadata": {},
   "outputs": [
    {
     "data": {
      "text/plain": [
       "24689"
      ]
     },
     "execution_count": 10,
     "metadata": {},
     "output_type": "execute_result"
    }
   ],
   "source": [
    "152399025-152374336"
   ]
  },
  {
   "cell_type": "code",
   "execution_count": null,
   "id": "c5031d91-6502-4aaa-82e2-55d8a0db2421",
   "metadata": {},
   "outputs": [],
   "source": []
  }
 ],
 "metadata": {
  "kernelspec": {
   "display_name": "Python 3",
   "language": "python",
   "name": "python3"
  },
  "language_info": {
   "codemirror_mode": {
    "name": "ipython",
    "version": 3
   },
   "file_extension": ".py",
   "mimetype": "text/x-python",
   "name": "python",
   "nbconvert_exporter": "python",
   "pygments_lexer": "ipython3",
   "version": "3.7.10"
  }
 },
 "nbformat": 4,
 "nbformat_minor": 5
}
