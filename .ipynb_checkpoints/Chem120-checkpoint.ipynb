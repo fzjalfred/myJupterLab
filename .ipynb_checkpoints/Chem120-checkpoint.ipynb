{
 "cells": [
  {
   "cell_type": "code",
   "execution_count": 73,
   "id": "1672caad-b6cb-4e29-b3d3-36d31f9a7bbf",
   "metadata": {},
   "outputs": [],
   "source": [
    "#Algorithm R\n",
    "from math import sqrt\n",
    "from itertools import groupby\n",
    "N_A = 6.022e23\n",
    "\n",
    "#photoelectric effect\n",
    "RH = 2.179e-18\n",
    "me = 9.109e-31\n",
    "e = 1.602e-19\n",
    "h=6.626e-34\n",
    "#epsilon_o = 8.854e-12\n",
    "#h=6.626e-34\n",
    "\n",
    "H = 1.008\n",
    "C = 12.01\n",
    "O = 16.00\n",
    "N = 14.01\n",
    "Si = 28.09\n",
    "P = 30.97\n",
    "Cl=35.45\n",
    "Mg=24.31\n",
    "\n",
    "O2 = 2*O\n",
    "HCl=36.45\n",
    "HNO3=H+N+O*3\n",
    "H2O = 2*H + O\n",
    "SiO2 = Si + 2*O\n",
    "CH4 = C+H*4\n",
    "C2H6 = C*2 + H*6\n",
    "CO2 = C+O*2\n",
    "NH3 = N+H*3\n",
    "\n",
    "def m_nm(m):\n",
    "    return m*1e9;\n",
    "\n",
    "def nm_m(nm):\n",
    "    return nm/1e9\n",
    "\n",
    "def e(num):\n",
    "    print(\"{:e}\".format(num))"
   ]
  },
  {
   "cell_type": "code",
   "execution_count": 74,
   "id": "d8d31cb6-895a-4c38-b43b-450577d8d511",
   "metadata": {},
   "outputs": [
    {
     "data": {
      "text/plain": [
       "'1.585264e+14'"
      ]
     },
     "execution_count": 74,
     "metadata": {},
     "output_type": "execute_result"
    }
   ],
   "source": [
    "\"{:e}\".format(4.27e-9/(20*C+24*H+2*O+2*N)*20*N_A)"
   ]
  },
  {
   "cell_type": "code",
   "execution_count": 75,
   "id": "9ba5a016-0be9-46ca-9834-fe7bdab6808f",
   "metadata": {},
   "outputs": [
    {
     "name": "stdout",
     "output_type": "stream",
     "text": [
      "0.09790869251678037\n",
      "3.032232e+00\n",
      "0.06492221756788098\n"
     ]
    }
   ],
   "source": [
    "n_c = 35.78/(C+2*O)\n",
    "m_c = n_c*C\n",
    "n_H = (11.13-m_c)/H\n",
    "#n_H = 12.21/(H2O)*2\n",
    "n_c/n_H\n",
    "\n",
    "n_ca3 = 63.6/310.18\n",
    "# n_p4 = n_ca3/2\n",
    "# print(n_p4)\n",
    "n_sio2 = 35.3/SiO2\n",
    "n_p4 = n_sio2/6\n",
    "print(n_p4)\n",
    "print(\"{:e}\".format(n_p4*P))\n",
    "\n",
    "c12h22o11= C*12 + H*22 + O*11\n",
    "n = 16.23*0.89/c12h22o11\n",
    "n_m = n/0.65\n",
    "print(n_m)\n",
    "\n",
    "\n",
    "\n",
    "\n",
    "\n"
   ]
  },
  {
   "cell_type": "code",
   "execution_count": 76,
   "id": "8ab50706-10f3-40de-92f3-5e8647d5397d",
   "metadata": {},
   "outputs": [
    {
     "data": {
      "text/plain": [
       "40.00853259397993"
      ]
     },
     "execution_count": 76,
     "metadata": {},
     "output_type": "execute_result"
    }
   ],
   "source": [
    "h=6.626e-34\n",
    "c=2.998e8\n",
    "m = h*c/(2.99e6/N_A)\n",
    "m_nm(m)"
   ]
  },
  {
   "cell_type": "code",
   "execution_count": 77,
   "id": "614a3c6f-bb63-48c9-8283-3d5518730558",
   "metadata": {},
   "outputs": [
    {
     "data": {
      "text/plain": [
       "5.481755561899328e-20"
      ]
     },
     "execution_count": 77,
     "metadata": {},
     "output_type": "execute_result"
    }
   ],
   "source": [
    "Ephoton = h*c/nm_m(310)\n",
    "w = h*c/nm_m(339)\n",
    "Ephoton - w"
   ]
  },
  {
   "cell_type": "code",
   "execution_count": 78,
   "id": "8dd01856-103a-4f84-8e5a-0e1d446dda0b",
   "metadata": {},
   "outputs": [
    {
     "data": {
      "text/plain": [
       "97.24215022181428"
      ]
     },
     "execution_count": 78,
     "metadata": {},
     "output_type": "execute_result"
    }
   ],
   "source": [
    "Ephoton = -RH/16 + RH/1\n",
    "Ephoton\n",
    "m_nm(h*c/Ephoton)"
   ]
  },
  {
   "cell_type": "code",
   "execution_count": 79,
   "id": "b13e0d57-5802-41da-aa8b-2a460afe2e4d",
   "metadata": {},
   "outputs": [
    {
     "data": {
      "text/plain": [
       "9.724215022181428e-08"
      ]
     },
     "execution_count": 79,
     "metadata": {},
     "output_type": "execute_result"
    }
   ],
   "source": [
    "h*c/Ephoton"
   ]
  },
  {
   "cell_type": "code",
   "execution_count": 80,
   "id": "97e983a1-2c40-4635-ad46-119ea5bf1473",
   "metadata": {},
   "outputs": [
    {
     "name": "stdout",
     "output_type": "stream",
     "text": [
      "-1.021406e-19\n",
      "-1.541513e+14\n"
     ]
    }
   ],
   "source": [
    "Ephoton = -RH/16 + RH/64\n",
    "e(Ephoton)\n",
    "e(Ephoton/h)"
   ]
  },
  {
   "cell_type": "code",
   "execution_count": 81,
   "id": "7e4756c6-798e-4732-842b-aa0715ef9b06",
   "metadata": {},
   "outputs": [
    {
     "data": {
      "text/plain": [
       "46.6290031555154"
      ]
     },
     "execution_count": 81,
     "metadata": {},
     "output_type": "execute_result"
    }
   ],
   "source": [
    "h/me/15.6e-6"
   ]
  },
  {
   "cell_type": "code",
   "execution_count": 82,
   "id": "b47c7ada-5320-4851-a26e-ccc4a82b05ce",
   "metadata": {},
   "outputs": [
    {
     "data": {
      "text/plain": [
       "121.55268777726785"
      ]
     },
     "execution_count": 82,
     "metadata": {},
     "output_type": "execute_result"
    }
   ],
   "source": [
    "RH = 2.179e-18\n",
    "h=6.626e-34\n",
    "c=2.998e8\n",
    "m_nm(h*c/(-RH/4+RH))\n"
   ]
  },
  {
   "cell_type": "code",
   "execution_count": 83,
   "id": "5b3c769a-cbf9-4cdf-aaa7-6be59c8b97a6",
   "metadata": {},
   "outputs": [
    {
     "data": {
      "text/plain": [
       "17.0"
      ]
     },
     "execution_count": 83,
     "metadata": {},
     "output_type": "execute_result"
    }
   ],
   "source": [
    "N/N+O"
   ]
  },
  {
   "cell_type": "code",
   "execution_count": 89,
   "id": "bb0bf641-9ef2-4571-b6c0-492ba89f5ffa",
   "metadata": {},
   "outputs": [
    {
     "name": "stdout",
     "output_type": "stream",
     "text": [
      "1.622789e-01\n",
      "2.175000e-01\n",
      "6.541462e+00\n"
     ]
    },
    {
     "data": {
      "text/plain": [
       "1.767075277663512"
      ]
     },
     "execution_count": 89,
     "metadata": {},
     "output_type": "execute_result"
    }
   ],
   "source": [
    "nMg = 7.89/(2*Mg)\n",
    "nO2 = 6.96/(O2)\n",
    "e(nMg)\n",
    "e(nO2)\n",
    "e(nMg*(Mg+O))\n",
    "7.89+6.96-nMg*2*(Mg+O)"
   ]
  },
  {
   "cell_type": "code",
   "execution_count": 90,
   "id": "548b0461-63de-458d-bcf9-f5735cb00a77",
   "metadata": {},
   "outputs": [
    {
     "data": {
      "text/plain": [
       "0.3736271186440679"
      ]
     },
     "execution_count": 90,
     "metadata": {},
     "output_type": "execute_result"
    }
   ],
   "source": [
    "0.792*0.334/2/0.354"
   ]
  },
  {
   "cell_type": "code",
   "execution_count": 92,
   "id": "49d37e12-a530-494a-98bb-313a2de0e6c7",
   "metadata": {},
   "outputs": [
    {
     "data": {
      "text/plain": [
       "5.04962819508722"
      ]
     },
     "execution_count": 92,
     "metadata": {},
     "output_type": "execute_result"
    }
   ],
   "source": [
    "4.46/Si/3*(3*Si+4*N)*0.68"
   ]
  },
  {
   "cell_type": "markdown",
   "id": "77747cfe-ee92-45cb-bb3a-d793e162dec2",
   "metadata": {
    "jp-MarkdownHeadingCollapsed": true,
    "tags": []
   },
   "source": [
    "5.64/233.36*261.32"
   ]
  },
  {
   "cell_type": "code",
   "execution_count": 94,
   "id": "cb98a06e-2816-4345-8e14-36bc4b1fed94",
   "metadata": {},
   "outputs": [
    {
     "data": {
      "text/plain": [
       "0.2690097322210797"
      ]
     },
     "execution_count": 94,
     "metadata": {},
     "output_type": "execute_result"
    }
   ],
   "source": [
    "(8.64-5.64/233.36*261.32)/8.64"
   ]
  },
  {
   "cell_type": "code",
   "execution_count": 95,
   "id": "b3427708-c94c-4f5d-8bd7-05b78182035a",
   "metadata": {},
   "outputs": [
    {
     "data": {
      "text/plain": [
       "0.14285714285714285"
      ]
     },
     "execution_count": 95,
     "metadata": {},
     "output_type": "execute_result"
    }
   ],
   "source": [
    "1/7"
   ]
  },
  {
   "cell_type": "code",
   "execution_count": 96,
   "id": "40b67bbe-290d-4e9e-8aaa-1db34338b4b1",
   "metadata": {},
   "outputs": [
    {
     "data": {
      "text/plain": [
       "0.5092153926093469"
      ]
     },
     "execution_count": 96,
     "metadata": {},
     "output_type": "execute_result"
    }
   ],
   "source": [
    "166.6/(118.96+106.12+102.09)"
   ]
  },
  {
   "cell_type": "code",
   "execution_count": 100,
   "id": "4f248d23-a8e3-42a2-b9eb-230798faabd1",
   "metadata": {},
   "outputs": [
    {
     "data": {
      "text/plain": [
       "121.55268777726785"
      ]
     },
     "execution_count": 100,
     "metadata": {},
     "output_type": "execute_result"
    }
   ],
   "source": [
    "m_nm(h*c/(-RH/4+RH))"
   ]
  },
  {
   "cell_type": "code",
   "execution_count": 101,
   "id": "df2e71c9-dc94-45c3-a028-5f72ef8decf1",
   "metadata": {},
   "outputs": [
    {
     "data": {
      "text/plain": [
       "102.56008031206974"
      ]
     },
     "execution_count": 101,
     "metadata": {},
     "output_type": "execute_result"
    }
   ],
   "source": [
    "m_nm(h*c/(-RH/9+RH))"
   ]
  },
  {
   "cell_type": "code",
   "execution_count": 106,
   "id": "c885fb95-80e3-45b2-b7f6-d55be098e7a1",
   "metadata": {},
   "outputs": [
    {
     "data": {
      "text/plain": [
       "94.96303732599051"
      ]
     },
     "execution_count": 106,
     "metadata": {},
     "output_type": "execute_result"
    }
   ],
   "source": [
    "m_nm(h*c/(-RH/25+RH))"
   ]
  },
  {
   "cell_type": "code",
   "execution_count": 109,
   "id": "b9828f39-fad6-426a-8b5d-2dfb79f8598d",
   "metadata": {},
   "outputs": [
    {
     "data": {
      "text/plain": [
       "434.11674206167083"
      ]
     },
     "execution_count": 109,
     "metadata": {},
     "output_type": "execute_result"
    }
   ],
   "source": [
    "m_nm(h*c/(-RH/25+RH/4))"
   ]
  },
  {
   "cell_type": "code",
   "execution_count": null,
   "id": "614e7b82-bc0f-4ac1-9164-c6e45f981a67",
   "metadata": {},
   "outputs": [],
   "source": []
  }
 ],
 "metadata": {
  "kernelspec": {
   "display_name": "Python 3",
   "language": "python",
   "name": "python3"
  },
  "language_info": {
   "codemirror_mode": {
    "name": "ipython",
    "version": 3
   },
   "file_extension": ".py",
   "mimetype": "text/x-python",
   "name": "python",
   "nbconvert_exporter": "python",
   "pygments_lexer": "ipython3",
   "version": "3.7.10"
  }
 },
 "nbformat": 4,
 "nbformat_minor": 5
}
